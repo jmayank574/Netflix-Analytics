{
 "cells": [
  {
   "cell_type": "markdown",
   "metadata": {
    "application/vnd.databricks.v1+cell": {
     "cellMetadata": {},
     "inputWidgets": {},
     "nuid": "28284fba-2e23-4ad5-90d1-256f0ca467d9",
     "showTitle": false,
     "tableResultSettingsMap": {},
     "title": ""
    }
   },
   "source": [
    "### DLT Notebook Gold Layer"
   ]
  },
  {
   "cell_type": "code",
   "execution_count": 0,
   "metadata": {
    "application/vnd.databricks.v1+cell": {
     "cellMetadata": {},
     "inputWidgets": {},
     "nuid": "efaeacba-eb25-4329-93d6-38a859c1ad40",
     "showTitle": false,
     "tableResultSettingsMap": {},
     "title": ""
    }
   },
   "outputs": [],
   "source": [
    "import dlt\n"
   ]
  },
  {
   "cell_type": "code",
   "execution_count": 0,
   "metadata": {
    "application/vnd.databricks.v1+cell": {
     "cellMetadata": {},
     "inputWidgets": {},
     "nuid": "057cee3a-58fd-4bdf-9bfb-0e9cab99bba3",
     "showTitle": false,
     "tableResultSettingsMap": {},
     "title": ""
    }
   },
   "outputs": [],
   "source": [
    "looktables_rules={\n",
    "    \"rule1\":\"show_id IS NOT NULL\"\n",
    "}"
   ]
  },
  {
   "cell_type": "code",
   "execution_count": 0,
   "metadata": {
    "application/vnd.databricks.v1+cell": {
     "cellMetadata": {},
     "inputWidgets": {},
     "nuid": "c025cdb7-1bc6-476b-956c-abecb916be51",
     "showTitle": false,
     "tableResultSettingsMap": {},
     "title": ""
    }
   },
   "outputs": [],
   "source": [
    "@dlt.table(\n",
    "    name=\"gold_netflixdirectors\"\n",
    ")\n",
    "\n",
    "@dlt.expect_all_or_drop(looktables_rules)\n",
    "def myfunc():\n",
    "    df=spark.readStream.format(\"delta\").load(\"abfss://silver@adfnetflixdl.dfs.core.windows.net/netflix_directors\")\n",
    "    return df"
   ]
  },
  {
   "cell_type": "code",
   "execution_count": 0,
   "metadata": {
    "application/vnd.databricks.v1+cell": {
     "cellMetadata": {},
     "inputWidgets": {},
     "nuid": "fa7cd0f1-3785-471a-954f-d05563b3230d",
     "showTitle": false,
     "tableResultSettingsMap": {},
     "title": ""
    }
   },
   "outputs": [],
   "source": [
    "@dlt.table(\n",
    "    name=\"gold_netflixcast\"\n",
    ")\n",
    "\n",
    "@dlt.expect_all_or_drop(looktables_rules)\n",
    "def myfunc():\n",
    "    df=spark.readStream.format(\"delta\").load(\"abfss://silver@adfnetflixdl.dfs.core.windows.net/netflix_cast\")\n",
    "    return df"
   ]
  },
  {
   "cell_type": "code",
   "execution_count": 0,
   "metadata": {
    "application/vnd.databricks.v1+cell": {
     "cellMetadata": {},
     "inputWidgets": {},
     "nuid": "e353c82a-31c0-49b5-8e34-f01cf930a968",
     "showTitle": false,
     "tableResultSettingsMap": {},
     "title": ""
    }
   },
   "outputs": [],
   "source": [
    "@dlt.table(\n",
    "    name=\"gold_netflixcountries\"\n",
    ")\n",
    "\n",
    "@dlt.expect_all_or_drop(looktables_rules)\n",
    "def myfunc():\n",
    "    df=spark.readStream.format(\"delta\").load(\"abfss://silver@adfnetflixdl.dfs.core.windows.net/netflix_countries\")\n",
    "    return df"
   ]
  },
  {
   "cell_type": "code",
   "execution_count": 0,
   "metadata": {
    "application/vnd.databricks.v1+cell": {
     "cellMetadata": {},
     "inputWidgets": {},
     "nuid": "95999252-5462-466f-aed3-2bb5f4883810",
     "showTitle": false,
     "tableResultSettingsMap": {},
     "title": ""
    }
   },
   "outputs": [],
   "source": [
    "@dlt.table(\n",
    "    name=\"gold_netflixcategory\"\n",
    ")\n",
    "\n",
    "@dlt.expect_or_drop( \"rule1\",\"show_id IS NOT NULL\")\n",
    "def myfunc():\n",
    "    df=spark.readStream.format(\"delta\").load(\"abfss://silver@adfnetflixdl.dfs.core.windows.net/netflix_category\")\n",
    "    return df"
   ]
  },
  {
   "cell_type": "code",
   "execution_count": 0,
   "metadata": {
    "application/vnd.databricks.v1+cell": {
     "cellMetadata": {},
     "inputWidgets": {},
     "nuid": "09247371-2297-4da0-86e4-d990b3062f22",
     "showTitle": false,
     "tableResultSettingsMap": {},
     "title": ""
    }
   },
   "outputs": [],
   "source": [
    "@dlt.table\n",
    "\n",
    "def gold_stg_netflixtitles():\n",
    "    df=spark.readStream.format(\"delta\").load(\"abfss://silver@adfnetflixdl.dfs.core.windows.net/netflix_titles\")\n",
    "    return df "
   ]
  },
  {
   "cell_type": "code",
   "execution_count": 0,
   "metadata": {
    "application/vnd.databricks.v1+cell": {
     "cellMetadata": {},
     "inputWidgets": {},
     "nuid": "efc1486d-3864-465d-8b14-22c430cf8d68",
     "showTitle": false,
     "tableResultSettingsMap": {},
     "title": ""
    }
   },
   "outputs": [],
   "source": [
    "from pyspark.sql.functions import *\n",
    "from pyspark.sql.types import *"
   ]
  },
  {
   "cell_type": "code",
   "execution_count": 0,
   "metadata": {
    "application/vnd.databricks.v1+cell": {
     "cellMetadata": {},
     "inputWidgets": {},
     "nuid": "10064d0e-2bf2-4e70-870b-b77fc5554fa5",
     "showTitle": false,
     "tableResultSettingsMap": {},
     "title": ""
    }
   },
   "outputs": [],
   "source": [
    "@dlt.view\n",
    "\n",
    "def gold_trans_netflixtitles():\n",
    "    df=spark.readStream.table(\"LIVE.gold_stg_netflixtitles\")\n",
    "    df=df.withColumn(\"new_flag\",lit(1))\n",
    "    return df"
   ]
  },
  {
   "cell_type": "code",
   "execution_count": 0,
   "metadata": {
    "application/vnd.databricks.v1+cell": {
     "cellMetadata": {},
     "inputWidgets": {},
     "nuid": "108fbba0-9ed2-42fe-9fa0-f80e31c8c831",
     "showTitle": false,
     "tableResultSettingsMap": {},
     "title": ""
    }
   },
   "outputs": [],
   "source": [
    "masterdata_rules = {\n",
    "    \"rule1\": \"new_flag is NOT NULL\",\n",
    "    \"rule2\": \"show_id is NOT NULL\"\n",
    "}"
   ]
  },
  {
   "cell_type": "code",
   "execution_count": 0,
   "metadata": {
    "application/vnd.databricks.v1+cell": {
     "cellMetadata": {},
     "inputWidgets": {},
     "nuid": "ea9c4553-f7f2-4e07-b8d8-9bf8b3856421",
     "showTitle": false,
     "tableResultSettingsMap": {},
     "title": ""
    }
   },
   "outputs": [],
   "source": [
    "@dlt.table\n",
    "\n",
    "@dlt.expect_all_or_drop(masterdata_rules)\n",
    "def gold_netflixtitles():\n",
    "    df=spark.readStream.table(\"LIVE.gold_trans_netflixtitles\")\n",
    "    return df\n"
   ]
  }
 ],
 "metadata": {
  "application/vnd.databricks.v1+notebook": {
   "computePreferences": null,
   "dashboards": [],
   "environmentMetadata": {
    "base_environment": "",
    "environment_version": "2"
   },
   "inputWidgetPreferences": null,
   "language": "python",
   "notebookMetadata": {
    "pythonIndentUnit": 4
   },
   "notebookName": "7_DLT",
   "widgets": {}
  },
  "language_info": {
   "name": "python"
  }
 },
 "nbformat": 4,
 "nbformat_minor": 0
}