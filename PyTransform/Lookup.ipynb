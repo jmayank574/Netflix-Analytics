{
 "cells": [
  {
   "cell_type": "code",
   "execution_count": 0,
   "metadata": {
    "application/vnd.databricks.v1+cell": {
     "cellMetadata": {
      "byteLimit": 2048000,
      "rowLimit": 10000
     },
     "inputWidgets": {},
     "nuid": "feb6300f-3afe-4b60-a132-8ceb4a757f31",
     "showTitle": false,
     "tableResultSettingsMap": {},
     "title": ""
    }
   },
   "outputs": [],
   "source": [
    "files = [\n",
    "    {\n",
    "        \"sourcefolder\" : \"netflix_directors\",\n",
    "        \"targetfolder\" : \"netflix_directors\"\n",
    "    },\n",
    "    {\n",
    "        \"sourcefolder\" : \"netflix_cast\",\n",
    "        \"targetfolder\" : \"netflix_cast\"\n",
    "    },\n",
    "    {\n",
    "        \"sourcefolder\" : \"netflix_countries\",\n",
    "        \"targetfolder\" : \"netflix_countries\"\n",
    "    },\n",
    "    {\n",
    "        \"sourcefolder\" : \"netflix_category\",\n",
    "        \"targetfolder\" : \"netflix_category\"\n",
    "    },\n",
    "]\n"
   ]
  },
  {
   "cell_type": "markdown",
   "metadata": {
    "application/vnd.databricks.v1+cell": {
     "cellMetadata": {},
     "inputWidgets": {},
     "nuid": "caab8b7c-f7f9-4144-9db9-29d8c551a24b",
     "showTitle": false,
     "tableResultSettingsMap": {},
     "title": ""
    }
   },
   "source": [
    "### Job Utility"
   ]
  },
  {
   "cell_type": "code",
   "execution_count": 0,
   "metadata": {
    "application/vnd.databricks.v1+cell": {
     "cellMetadata": {
      "byteLimit": 2048000,
      "rowLimit": 10000
     },
     "inputWidgets": {},
     "nuid": "d4ab2f4f-9998-4898-a52e-2c8380e1793e",
     "showTitle": false,
     "tableResultSettingsMap": {},
     "title": ""
    }
   },
   "outputs": [],
   "source": [
    "dbutils.jobs.taskValues.set(key=\"my_arr\",value=files)"
   ]
  }
 ],
 "metadata": {
  "application/vnd.databricks.v1+notebook": {
   "computePreferences": null,
   "dashboards": [],
   "environmentMetadata": {
    "base_environment": "",
    "environment_version": "2"
   },
   "inputWidgetPreferences": null,
   "language": "python",
   "notebookMetadata": {
    "pythonIndentUnit": 4
   },
   "notebookName": "Lookup",
   "widgets": {}
  },
  "language_info": {
   "name": "python"
  }
 },
 "nbformat": 4,
 "nbformat_minor": 0
}